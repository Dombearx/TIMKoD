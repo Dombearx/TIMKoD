{
 "cells": [
  {
   "cell_type": "code",
   "execution_count": 1,
   "metadata": {},
   "outputs": [],
   "source": [
    "#Kompresja danych\n",
    "#Standardowo każdy znak zajmuje 8 bitów - 1 bajt\n",
    "\n",
    "#W przykładzie plik składa się z 37 różnych znaków => wystarczy 2^n bitów, \n",
    "#gdzie 2^n >= 37 => n = 6;\n",
    "\n",
    "#kazdy znak kodowany na 6 bitach\n",
    "#stopień kompresji 1 - 6/8 = 1/4"
   ]
  },
  {
   "cell_type": "code",
   "execution_count": 2,
   "metadata": {},
   "outputs": [],
   "source": [
    "import bitarray as ba\n",
    "import operator\n"
   ]
  },
  {
   "cell_type": "code",
   "execution_count": 3,
   "metadata": {},
   "outputs": [],
   "source": [
    "def read_file(file):\n",
    "    return open(file).read()"
   ]
  },
  {
   "cell_type": "code",
   "execution_count": 4,
   "metadata": {},
   "outputs": [],
   "source": [
    "def save_file(file_name, code):\n",
    "    result = open(file_name, 'w')\n",
    "    \n",
    "    for text, num in code.items():\n",
    "        result.write(text + \";\" + str(num) + \";\")\n",
    "    \n",
    "    result.close()\n",
    "    return result"
   ]
  },
  {
   "cell_type": "code",
   "execution_count": 5,
   "metadata": {},
   "outputs": [],
   "source": [
    "def save_file_bin(file_name, bit_array):\n",
    "    with open(file_name, 'wb') as fh:\n",
    "        bit_array.tofile(fh)\n",
    "    return 1"
   ]
  },
  {
   "cell_type": "code",
   "execution_count": 6,
   "metadata": {},
   "outputs": [],
   "source": [
    "def read_file_bin(file_name):\n",
    "    bit_array = ba.bitarray()\n",
    "    with open(file_name, 'rb') as fh:\n",
    "        bit_array.fromfile(fh)\n",
    "    return bit_array"
   ]
  },
  {
   "cell_type": "code",
   "execution_count": 7,
   "metadata": {},
   "outputs": [],
   "source": [
    "def read_bitarray(text):\n",
    "    array = ba.bitarray()\n",
    "    print(str.encode(text))\n",
    "    array.frombytes(str.encode(text))\n",
    "\n",
    "    return array    "
   ]
  },
  {
   "cell_type": "code",
   "execution_count": 8,
   "metadata": {},
   "outputs": [],
   "source": [
    "def count_chars(text):\n",
    "    chars = {}\n",
    "    for char in list(text):\n",
    "        if char in chars:\n",
    "            chars[char] += 1\n",
    "        else:\n",
    "            chars[char] = 1\n",
    "    return chars\n"
   ]
  },
  {
   "cell_type": "code",
   "execution_count": 9,
   "metadata": {},
   "outputs": [],
   "source": [
    "#Tworzy kod na podstawie listy częstości znaków\n",
    "def create(chars):\n",
    "    code = {}\n",
    "    \n",
    "    sorted_chars = sorted(chars.items(), key=operator.itemgetter(1), reverse=True)\n",
    "    i = 0\n",
    "    for char, frequency in sorted_chars:\n",
    "        code[char] = i\n",
    "        i += 1\n",
    "        \n",
    "    return code"
   ]
  },
  {
   "cell_type": "code",
   "execution_count": 10,
   "metadata": {},
   "outputs": [],
   "source": [
    "#Koduje tekst\n",
    "def encode(text, code):\n",
    "    \n",
    "    coded_text = ba.bitarray()\n",
    "    for char in text:\n",
    "        binary = bin(code[char])\n",
    "        binary = binary[2:].zfill(6)\n",
    "        \n",
    "        for b in binary:\n",
    "            if b == '1':\n",
    "                coded_text.append(True)\n",
    "            else:\n",
    "                coded_text.append(False)\n",
    "    \n",
    "    return coded_text"
   ]
  },
  {
   "cell_type": "code",
   "execution_count": 11,
   "metadata": {},
   "outputs": [],
   "source": [
    "import struct"
   ]
  },
  {
   "cell_type": "code",
   "execution_count": 12,
   "metadata": {},
   "outputs": [],
   "source": [
    "#Dekoduje tekst\n",
    "def decode(coded_text, code):\n",
    "    text = []\n",
    "    codeSwaped = dict((v,k) for k,v in code.items())\n",
    "\n",
    "    for i in range(0, len(coded_text), 6):\n",
    "        bits = coded_text[i:i+6]\n",
    "        x = int(bits.to01(), 2)\n",
    "        text.append(codeSwaped[str(x)])\n",
    "\n",
    "    return ''.join(text) "
   ]
  },
  {
   "cell_type": "code",
   "execution_count": 13,
   "metadata": {},
   "outputs": [],
   "source": [
    "#Zapis kodu i zakodowanego tekstu do pliku\n",
    "def save(text, code, file_name, file_name_code):\n",
    "    \n",
    "    save_file_bin(file_name, text)\n",
    "    save_file(file_name_code, code)\n",
    "    \n",
    "    return 0"
   ]
  },
  {
   "cell_type": "code",
   "execution_count": 14,
   "metadata": {},
   "outputs": [],
   "source": [
    "#Wczytuje kod oraz tekst\n",
    "def load(file_name, code_file_name):\n",
    "    \n",
    "    code_file = read_file(code_file_name)\n",
    "    split = code_file.split(\";\")\n",
    "    code = {}\n",
    "    for char, num in zip(split[0::2], split[1::2]):\n",
    "        code[char] = num\n",
    "        \n",
    "    text = read_file_bin(file_name)\n",
    "    return text, code"
   ]
  },
  {
   "cell_type": "code",
   "execution_count": null,
   "metadata": {},
   "outputs": [],
   "source": []
  },
  {
   "cell_type": "code",
   "execution_count": 15,
   "metadata": {},
   "outputs": [],
   "source": [
    "file = read_file(\"norm_wiki_sample.txt\")"
   ]
  },
  {
   "cell_type": "code",
   "execution_count": null,
   "metadata": {},
   "outputs": [],
   "source": []
  },
  {
   "cell_type": "code",
   "execution_count": null,
   "metadata": {},
   "outputs": [],
   "source": []
  },
  {
   "cell_type": "code",
   "execution_count": 16,
   "metadata": {},
   "outputs": [],
   "source": [
    "def compare_strings(original, new_string):\n",
    "    for org, new in zip(original, new_string):\n",
    "        if org != new:\n",
    "            print(org, \"!=\", new)\n",
    "            return \"Teksty są różne\"\n",
    "    return \"Teksty sa równe\""
   ]
  },
  {
   "cell_type": "code",
   "execution_count": 19,
   "metadata": {},
   "outputs": [],
   "source": [
    "chars = count_chars(file)"
   ]
  },
  {
   "cell_type": "code",
   "execution_count": null,
   "metadata": {},
   "outputs": [],
   "source": []
  },
  {
   "cell_type": "code",
   "execution_count": 20,
   "metadata": {},
   "outputs": [],
   "source": [
    "code = create(chars)"
   ]
  },
  {
   "cell_type": "code",
   "execution_count": 21,
   "metadata": {},
   "outputs": [],
   "source": [
    "encoded = encode(file, code)"
   ]
  },
  {
   "cell_type": "code",
   "execution_count": 22,
   "metadata": {},
   "outputs": [
    {
     "data": {
      "text/plain": [
       "0"
      ]
     },
     "execution_count": 22,
     "metadata": {},
     "output_type": "execute_result"
    }
   ],
   "source": [
    "save(encoded, code, \"zakodowany\", \"kod\")"
   ]
  },
  {
   "cell_type": "code",
   "execution_count": null,
   "metadata": {},
   "outputs": [],
   "source": []
  },
  {
   "cell_type": "code",
   "execution_count": 23,
   "metadata": {},
   "outputs": [],
   "source": [
    "coded, code = load(\"zakodowany\", \"kod\")"
   ]
  },
  {
   "cell_type": "code",
   "execution_count": 24,
   "metadata": {},
   "outputs": [],
   "source": [
    "decoded = decode(coded, code)"
   ]
  },
  {
   "cell_type": "code",
   "execution_count": 25,
   "metadata": {},
   "outputs": [
    {
     "data": {
      "text/plain": [
       "'Teksty sa równe'"
      ]
     },
     "execution_count": 25,
     "metadata": {},
     "output_type": "execute_result"
    }
   ],
   "source": [
    "compare_strings(file, decoded)"
   ]
  },
  {
   "cell_type": "code",
   "execution_count": null,
   "metadata": {},
   "outputs": [],
   "source": []
  },
  {
   "cell_type": "code",
   "execution_count": null,
   "metadata": {},
   "outputs": [],
   "source": []
  }
 ],
 "metadata": {
  "anaconda-cloud": {},
  "kernelspec": {
   "display_name": "Python 3",
   "language": "python",
   "name": "python3"
  },
  "language_info": {
   "codemirror_mode": {
    "name": "ipython",
    "version": 3
   },
   "file_extension": ".py",
   "mimetype": "text/x-python",
   "name": "python",
   "nbconvert_exporter": "python",
   "pygments_lexer": "ipython3",
   "version": "3.7.3"
  }
 },
 "nbformat": 4,
 "nbformat_minor": 1
}
