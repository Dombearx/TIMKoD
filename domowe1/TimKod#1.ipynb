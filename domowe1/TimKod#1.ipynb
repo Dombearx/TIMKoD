{
 "cells": [
  {
   "cell_type": "code",
   "execution_count": 1,
   "metadata": {},
   "outputs": [],
   "source": [
    "from random import randint\n",
    "import random as random"
   ]
  },
  {
   "cell_type": "code",
   "execution_count": 2,
   "metadata": {},
   "outputs": [],
   "source": [
    "#ZADANIE 1"
   ]
  },
  {
   "cell_type": "code",
   "execution_count": 3,
   "metadata": {},
   "outputs": [],
   "source": [
    "def generate(base, length):\n",
    "    text = \"\"\n",
    "    for i in range(length):\n",
    "        text += base[randint(0, len(base) - 1)]\n",
    "    return text"
   ]
  },
  {
   "cell_type": "code",
   "execution_count": 4,
   "metadata": {},
   "outputs": [],
   "source": [
    "#97 - 122 + 32 - ascii code + space"
   ]
  },
  {
   "cell_type": "code",
   "execution_count": 5,
   "metadata": {},
   "outputs": [],
   "source": [
    "base = []\n",
    "for i in range(26):\n",
    "    base.append(chr(i + 97))\n",
    "    \n",
    "base.append(\" \")"
   ]
  },
  {
   "cell_type": "code",
   "execution_count": 6,
   "metadata": {},
   "outputs": [],
   "source": [
    "text = generate(base, 10000);"
   ]
  },
  {
   "cell_type": "code",
   "execution_count": null,
   "metadata": {},
   "outputs": [],
   "source": []
  },
  {
   "cell_type": "code",
   "execution_count": 7,
   "metadata": {},
   "outputs": [],
   "source": [
    "def calcMean(text):\n",
    "    words = text.split() \n",
    "    wordsLen = 0\n",
    "    for word in words:\n",
    "        wordsLen += len(word)\n",
    "\n",
    "    mean = wordsLen / len(words)\n",
    "    return mean"
   ]
  },
  {
   "cell_type": "code",
   "execution_count": 8,
   "metadata": {},
   "outputs": [
    {
     "data": {
      "text/plain": [
       "27.557142857142857"
      ]
     },
     "execution_count": 8,
     "metadata": {},
     "output_type": "execute_result"
    }
   ],
   "source": [
    "mean = calcMean(text)\n",
    "mean"
   ]
  },
  {
   "cell_type": "code",
   "execution_count": 9,
   "metadata": {},
   "outputs": [],
   "source": [
    "#ZADANIE 2"
   ]
  },
  {
   "cell_type": "code",
   "execution_count": 10,
   "metadata": {},
   "outputs": [],
   "source": [
    "base = []\n",
    "for i in range(26):\n",
    "    base.append(chr(i + 97))\n",
    "    \n",
    "base.append(\" \")    \n",
    "\n",
    "for i in range(10):\n",
    "    base.append(chr(i + 48))\n",
    "    \n"
   ]
  },
  {
   "cell_type": "code",
   "execution_count": 11,
   "metadata": {},
   "outputs": [],
   "source": [
    "def readFile(file):\n",
    "    return open(file).read()"
   ]
  },
  {
   "cell_type": "code",
   "execution_count": 12,
   "metadata": {},
   "outputs": [],
   "source": [
    "def readLetters(text2):\n",
    "    letters = []\n",
    "    character = 0\n",
    "    for i in range(37):\n",
    "        letters.append(0)\n",
    "    for c in list(text2):\n",
    "        if c == \" \":\n",
    "            letters[26] += 1\n",
    "        else: \n",
    "            if ord(c) >= 48 and ord(c) <= 57:\n",
    "                character = ord(c)\n",
    "                letters[27 + (character - 48)] += 1\n",
    "            else:\n",
    "                character = ord(c)\n",
    "                letters[character - 97] += 1\n",
    "    return letters\n",
    "        \n",
    "        "
   ]
  },
  {
   "cell_type": "code",
   "execution_count": 27,
   "metadata": {},
   "outputs": [],
   "source": [
    "wikipedia = readFile(\"norm_wiki_sample.txt\")\n",
    "romeo = readFile(\"norm_romeo_and_juliet.txt\")"
   ]
  },
  {
   "cell_type": "code",
   "execution_count": 14,
   "metadata": {},
   "outputs": [
    {
     "name": "stdout",
     "output_type": "stream",
     "text": [
      "' a ' :  777876  prob:  0.07209938398958711\n",
      "' b ' :  145172  prob:  0.013455630167965513\n",
      "' c ' :  297462  prob:  0.027571009981424498\n",
      "' d ' :  341036  prob:  0.03160977523187864\n",
      "' e ' :  1009158  prob:  0.0935363350304724\n",
      "' f ' :  190077  prob:  0.017617762484751748\n",
      "' g ' :  175671  prob:  0.016282506318275353\n",
      "' h ' :  393431  prob:  0.03646613694522938\n",
      "' i ' :  657640  prob:  0.06095500939341498\n",
      "' j ' :  22956  prob:  0.002127734316092747\n",
      "' k ' :  65072  prob:  0.006031361187349157\n",
      "' l ' :  378211  prob:  0.03505543315140939\n",
      "' m ' :  232270  prob:  0.02152852629372985\n",
      "' n ' :  643628  prob:  0.05965627210307295\n",
      "' o ' :  627012  prob:  0.05811617655523373\n",
      "' p ' :  184242  prob:  0.017076930905452165\n",
      "' q ' :  9205  prob:  0.0008531884640021667\n",
      "' r ' :  586088  prob:  0.05432303318740922\n",
      "' s ' :  572689  prob:  0.053081113336332086\n",
      "' t ' :  715266  prob:  0.06629621943432631\n",
      "' u ' :  229915  prob:  0.021310247224449554\n",
      "' v ' :  92206  prob:  0.008546343890470808\n",
      "' w ' :  138676  prob:  0.012853532149262843\n",
      "' x ' :  17630  prob:  0.001634080675758631\n",
      "' y ' :  134244  prob:  0.012442741136502646\n",
      "' z ' :  13933  prob:  0.0012914149776145777\n",
      "'   ' :  1840507  prob:  0.17059199786151394\n",
      "' 0 ' :  50436  prob:  0.004674786895210568\n",
      "' 1 ' :  63329  prob:  0.005869806869830876\n",
      "' 2 ' :  37553  prob:  0.003480693795619051\n",
      "' 3 ' :  19038  prob:  0.0017645846798124117\n",
      "' 4 ' :  17341  prob:  0.0016072939874265694\n",
      "' 5 ' :  17809  prob:  0.0016506717387739908\n",
      "' 6 ' :  16484  prob:  0.001527860797459176\n",
      "' 7 ' :  16523  prob:  0.001531475610071461\n",
      "' 8 ' :  20745  prob:  0.0019228022472270448\n",
      "' 9 ' :  38410  prob:  0.0035601269855864443\n",
      "probability sum:  1.0\n"
     ]
    }
   ],
   "source": [
    "letters = readLetters(wikipedia)\n",
    "probability = []\n",
    "for letter in letters:\n",
    "    probability.append(letter / len(wikipedia))\n",
    "for character, amount, prob in zip(base, letters, probability):\n",
    "    print(\"'\", character, \"'\",\": \", amount, \" prob: \", prob)\n",
    "    \n",
    "print(\"probability sum: \", sum(probability))"
   ]
  },
  {
   "cell_type": "code",
   "execution_count": 15,
   "metadata": {},
   "outputs": [],
   "source": [
    "#ZADANIE 3"
   ]
  },
  {
   "cell_type": "code",
   "execution_count": 16,
   "metadata": {},
   "outputs": [
    {
     "data": {
      "text/plain": [
       "4.8619423136898225"
      ]
     },
     "execution_count": 16,
     "metadata": {},
     "output_type": "execute_result"
    }
   ],
   "source": [
    "mean = calcMean(wikipedia)\n",
    "mean"
   ]
  },
  {
   "cell_type": "code",
   "execution_count": 17,
   "metadata": {},
   "outputs": [],
   "source": [
    "def generateWithProbability(base, length, prob):\n",
    "    text = \"\"\n",
    "    sumProb = []\n",
    "    num = 0\n",
    "    \n",
    "    for p in prob:\n",
    "        sumProb.append(num + p)\n",
    "        num += p\n",
    "    if sumProb == 0:\n",
    "        return \" \"\n",
    "    for i in range(length):\n",
    "        rand = random.uniform(0, 1)\n",
    "        for index, p2 in enumerate(sumProb):\n",
    "            if rand <= p2:\n",
    "                text += base[index]\n",
    "                break\n",
    "    return text"
   ]
  },
  {
   "cell_type": "code",
   "execution_count": 18,
   "metadata": {},
   "outputs": [],
   "source": [
    "text3 = generateWithProbability(base, 100000, probability)"
   ]
  },
  {
   "cell_type": "code",
   "execution_count": 19,
   "metadata": {},
   "outputs": [
    {
     "data": {
      "text/plain": [
       "5.894636015325671"
      ]
     },
     "execution_count": 19,
     "metadata": {},
     "output_type": "execute_result"
    }
   ],
   "source": [
    "mean = calcMean(text3)\n",
    "mean"
   ]
  },
  {
   "cell_type": "code",
   "execution_count": 20,
   "metadata": {},
   "outputs": [],
   "source": [
    "#ZADANIE 4"
   ]
  },
  {
   "cell_type": "code",
   "execution_count": 21,
   "metadata": {},
   "outputs": [],
   "source": [
    "#należy policzyć jak często wystepuje kazdy ze znaków po \" \", \"e\""
   ]
  },
  {
   "cell_type": "code",
   "execution_count": null,
   "metadata": {},
   "outputs": [],
   "source": [
    "\n",
    "    "
   ]
  },
  {
   "cell_type": "code",
   "execution_count": 22,
   "metadata": {},
   "outputs": [],
   "source": [
    "def countProb(text2, letter):\n",
    "    letters = []\n",
    "    character = 0\n",
    "    letterCount = 0\n",
    "    last = False\n",
    "    for i in range(37):\n",
    "        letters.append(0)\n",
    "    for c in list(text2):\n",
    "        if last:\n",
    "            if c == \" \":\n",
    "                letters[26] += 1\n",
    "            else: \n",
    "                if ord(c) >= 48 and ord(c) <= 57:\n",
    "                    character = ord(c)\n",
    "                    letters[27 + (character - 48)] += 1\n",
    "                else:\n",
    "                    character = ord(c)\n",
    "                    letters[character - 97] += 1\n",
    "            last = False\n",
    "        if c == letter:\n",
    "            last = True\n",
    "            letterCount += 1\n",
    "            \n",
    "    letters[:] = [letter / letterCount for letter in letters]\n",
    "    return letters"
   ]
  },
  {
   "cell_type": "code",
   "execution_count": 26,
   "metadata": {},
   "outputs": [
    {
     "name": "stdout",
     "output_type": "stream",
     "text": [
      "' a ' after '   ' prob:  0.11310796427288786\n",
      "' b ' after '   ' prob:  0.04601177827631191\n",
      "' c ' after '   ' prob:  0.05381234627197832\n",
      "' d ' after '   ' prob:  0.031737450604643176\n",
      "' e ' after '   ' prob:  0.02358045908002523\n",
      "' f ' after '   ' prob:  0.041831408410834624\n",
      "' g ' after '   ' prob:  0.018139023649461804\n",
      "' h ' after '   ' prob:  0.037326671400869434\n",
      "' i ' after '   ' prob:  0.06157868456898018\n",
      "' j ' after '   ' prob:  0.009231152068424625\n",
      "' k ' after '   ' prob:  0.008249900706707445\n",
      "' l ' after '   ' prob:  0.02683608375300936\n",
      "' m ' after '   ' prob:  0.0379623658046397\n",
      "' n ' after '   ' prob:  0.021325102268016368\n",
      "' o ' after '   ' prob:  0.06128420049475498\n",
      "' p ' after '   ' prob:  0.04123483366268099\n",
      "' q ' after '   ' prob:  0.0017734243879539715\n",
      "' r ' after '   ' prob:  0.031741253904494796\n",
      "' s ' after '   ' prob:  0.07196114983534428\n",
      "' t ' after '   ' prob:  0.12933936138248864\n",
      "' u ' after '   ' prob:  0.012150999697365997\n",
      "' v ' after '   ' prob:  0.009279508309395184\n",
      "' w ' after '   ' prob:  0.04862355861727231\n",
      "' x ' after '   ' prob:  0.0005732116204937009\n",
      "' y ' after '   ' prob:  0.00503448234644041\n",
      "' z ' after '   ' prob:  0.0010051578179273428\n",
      "'   ' after '   ' prob:  0.0\n",
      "' 0 ' after '   ' prob:  0.00238901563536569\n",
      "' 1 ' after '   ' prob:  0.02387385649714997\n",
      "' 2 ' after '   ' prob:  0.013206143741914592\n",
      "' 3 ' after '   ' prob:  0.0038962090337064732\n",
      "' 4 ' after '   ' prob:  0.0027362025789632967\n",
      "' 5 ' after '   ' prob:  0.0024313952622837076\n",
      "' 6 ' after '   ' prob:  0.002075515061882405\n",
      "' 7 ' after '   ' prob:  0.001564786224665269\n",
      "' 8 ' after '   ' prob:  0.0016305289792432193\n",
      "' 9 ' after '   ' prob:  0.0014642704428725346\n",
      "---------------------\n",
      "' a ' after ' e ' prob:  0.04793798394304955\n",
      "' b ' after ' e ' prob:  0.004097475321010189\n",
      "' c ' after ' e ' prob:  0.02975450821377822\n",
      "' d ' after ' e ' prob:  0.08666928270895143\n",
      "' e ' after ' e ' prob:  0.021248407087889113\n",
      "' f ' after ' e ' prob:  0.009343432842032665\n",
      "' g ' after ' e ' prob:  0.010039062267751928\n",
      "' h ' after ' e ' prob:  0.002186971713051871\n",
      "' i ' after ' e ' prob:  0.010917021913317835\n",
      "' j ' after ' e ' prob:  0.00042312502105715857\n",
      "' k ' after ' e ' prob:  0.0020244599953624706\n",
      "' l ' after ' e ' prob:  0.03874219894208836\n",
      "' m ' after ' e ' prob:  0.02234833395761615\n",
      "' n ' after ' e ' prob:  0.0873540119584842\n",
      "' o ' after ' e ' prob:  0.005252893996777512\n",
      "' p ' after ' e ' prob:  0.011132052661723933\n",
      "' q ' after ' e ' prob:  0.0020492331230590253\n",
      "' r ' after ' e ' prob:  0.14449868107868144\n",
      "' s ' after ' e ' prob:  0.08210706351235386\n",
      "' t ' after ' e ' prob:  0.026254560732808935\n",
      "' u ' after ' e ' prob:  0.003297798758965395\n",
      "' v ' after ' e ' prob:  0.01480144833613765\n",
      "' w ' after ' e ' prob:  0.009250285881893618\n",
      "' x ' after ' e ' prob:  0.010108427025302283\n",
      "' y ' after ' e ' prob:  0.008770678129688314\n",
      "' z ' after ' e ' prob:  0.0010047980593722687\n",
      "'   ' after ' e ' prob:  0.3078863765634321\n",
      "' 0 ' after ' e ' prob:  3.2700528559452535e-05\n",
      "' 1 ' after ' e ' prob:  0.00024178572631837632\n",
      "' 2 ' after ' e ' prob:  4.95462553931099e-05\n",
      "' 3 ' after ' e ' prob:  3.963700431448792e-05\n",
      "' 4 ' after ' e ' prob:  2.972775323586594e-05\n",
      "' 5 ' after ' e ' prob:  8.323770906042464e-05\n",
      "' 6 ' after ' e ' prob:  7.927400862897584e-06\n",
      "' 7 ' after ' e ' prob:  5.945550647173188e-06\n",
      "' 8 ' after ' e ' prob:  6.936475755035386e-06\n",
      "' 9 ' after ' e ' prob:  1.981850215724396e-06\n"
     ]
    }
   ],
   "source": [
    "c = ' '\n",
    "letters = countProb(wikipedia, c)\n",
    "for character, amount in zip(base, letters):\n",
    "    print(\"'\", character, \"' after '\", c,\"' prob: \", amount) \n",
    "print(\"---------------------\")\n",
    "    \n",
    "c = 'e' \n",
    "letters = countProb(wikipedia, c)\n",
    "for character, amount in zip(base, letters):\n",
    "    print(\"'\", character, \"' after '\", c,\"' prob: \", amount)      \n",
    "   "
   ]
  },
  {
   "cell_type": "code",
   "execution_count": 35,
   "metadata": {},
   "outputs": [],
   "source": [
    "#ZADANIE 5\n",
    "\n"
   ]
  },
  {
   "cell_type": "code",
   "execution_count": 34,
   "metadata": {},
   "outputs": [],
   "source": [
    "def getProbability(sampleText, word):\n",
    "    letters = []\n",
    "    character = 0\n",
    "    letterCount = 0\n",
    "    \n",
    "    foundString = False\n",
    "    for i in range(37):\n",
    "        letters.append(0)\n",
    "        \n",
    "    while(sampleText.find(word) != -1):\n",
    "        #find index of word in text\n",
    "        start = sampleText.find(word)         \n",
    "        index = start + len(word)\n",
    "        if(index < len(sampleText)):\n",
    "            nextLetter = sampleText[index]\n",
    "            if nextLetter == \" \":\n",
    "                    letters[26] += 1\n",
    "            else: \n",
    "                if ord(nextLetter) >= 48 and ord(nextLetter) <= 57:\n",
    "                    character = ord(nextLetter)\n",
    "                    letters[27 + (character - 48)] += 1\n",
    "                else:\n",
    "                    character = ord(nextLetter)\n",
    "                    letters[character - 97] += 1\n",
    "        #cut text \n",
    "        letterCount += 1\n",
    "        sampleText = sampleText[index:]\n",
    "        \n",
    "    if letterCount != 0:\n",
    "        letters[:] = [letter / letterCount for letter in letters]\n",
    "    return letters"
   ]
  },
  {
   "cell_type": "code",
   "execution_count": null,
   "metadata": {},
   "outputs": [],
   "source": []
  },
  {
   "cell_type": "code",
   "execution_count": 40,
   "metadata": {},
   "outputs": [],
   "source": [
    "def generate(sampleText, firstWord, textLength, markovLength):\n",
    "    word = firstWord[len(firstWord) - markovLength:]\n",
    "    newText = firstWord\n",
    "    \n",
    "    while(len(newText) < textLength):\n",
    "        probability = getProbability(sampleText, word)\n",
    "        if sum(probability) == 0:\n",
    "            newText += \" \"\n",
    "        else:\n",
    "            newText += generateWithProbability(base, 1, probability)\n",
    "        word = newText[len(newText) - markovLength:]\n",
    "    return newText\n",
    "    "
   ]
  },
  {
   "cell_type": "code",
   "execution_count": 51,
   "metadata": {},
   "outputs": [
    {
     "name": "stdout",
     "output_type": "stream",
     "text": [
      "Średnia długość wyrazu: 4.2356020942408374\n"
     ]
    }
   ],
   "source": [
    "text = generate(romeo, \"probability\", 1000, 1)\n",
    "mean = calcMean(text)\n",
    "print(\"Średnia długość wyrazu:\", mean)"
   ]
  },
  {
   "cell_type": "code",
   "execution_count": 50,
   "metadata": {},
   "outputs": [
    {
     "name": "stdout",
     "output_type": "stream",
     "text": [
      "Średnia długość wyrazu: 3.8357487922705316\n"
     ]
    }
   ],
   "source": [
    "text = generate(romeo, \"probability\", 1000, 3)\n",
    "mean = calcMean(text)\n",
    "print(\"Średnia długość wyrazu:\", mean)"
   ]
  },
  {
   "cell_type": "code",
   "execution_count": 49,
   "metadata": {},
   "outputs": [
    {
     "name": "stdout",
     "output_type": "stream",
     "text": [
      "Średnia długość wyrazu: 11.0\n"
     ]
    }
   ],
   "source": [
    "text = generate(romeo, \"probability\", 1000, 5)\n",
    "mean = calcMean(text)\n",
    "print(\"Średnia długość wyrazu:\", mean)"
   ]
  },
  {
   "cell_type": "code",
   "execution_count": null,
   "metadata": {},
   "outputs": [],
   "source": [
    "#Poniżej próby z innym kodem"
   ]
  },
  {
   "cell_type": "code",
   "execution_count": 31,
   "metadata": {},
   "outputs": [],
   "source": [
    "#markovText5 = generate(romeo, \"romeo\", 1000, 5)"
   ]
  },
  {
   "cell_type": "code",
   "execution_count": 32,
   "metadata": {},
   "outputs": [
    {
     "name": "stdout",
     "output_type": "stream",
     "text": [
      "['The', 'he ', 'e b', ' bi', 'big', 'ig ', 'g b', ' br', 'bro', 'row', 'own', 'wn ', 'n f', ' fo', 'fox', 'ox ', 'x j', ' ju', 'jum', 'ump', 'mpe', 'ped', 'ed ', 'd o', ' ov', 'ove', 'ver', 'er ', 'r t', ' th', 'the', 'he ', 'e f', ' fe', 'fen', 'enc', 'nce', 'ce.', 'e.', '.']\n"
     ]
    }
   ],
   "source": [
    "def get_character_ngrams(data, n_gram_len):\n",
    "    y = []\n",
    "    for x in range(0, len(data), 1):\n",
    "        n = data[x : x + n_gram_len]\n",
    "        y.append(n)\n",
    "    return y\n",
    "print(get_character_ngrams(\"The big brown fox jumped over the fence.\", 3))"
   ]
  },
  {
   "cell_type": "code",
   "execution_count": 33,
   "metadata": {},
   "outputs": [
    {
     "name": "stdout",
     "output_type": "stream",
     "text": [
      "probability lan scoubt cary d selp fromeo but men en th ordie to st canderes bleed frabb d ings bere hiss dencle i lact foo you and am thy therce mensmour we hend yours gre cou grow th spard his gon me offear any fort into by is dreekil ace thead lover hingend his his hat ill walm therthis ballood i dess forre mar ke stray tereat get the retty raw but nothereack up of th parterse ise youse then her dis arry for me nowe thick yous sors s my fin food by hise me sou s are worn this une my ing ve i here ey but sce greve ting ty theres not onch dar beetund is th corentere do st i comeo heetien to to darch so fuld her mard thou nam lettors you th it rose here laus hat not lot cal i pragiver me whou danown antyball fearis ty wid lettle hispothy hour joyfurs to liend thips at d i thend my do call ing fors you go me his tick fors hin lartio has thy of but no of muspeave onfe agazen thy d balt ke kink toppe my there heye be beiregio atere sleerm ameathat sh mor ve fair a riarld is rownrietilgrabefs liere t\n"
     ]
    }
   ],
   "source": [
    "from collections import Counter\n",
    "import random\n",
    "import itertools\n",
    "\n",
    "def generate_ngram_markov(n_gram_len):\n",
    "    markov_dict = dict() # stwórz słownik, który wskaże listę dozwolonych słów po zaobserwowanych n-poprzednich słowach.\n",
    "    with open('norm_romeo_and_juliet.txt', encoding=\"utf8\") as f: # wczytaj korpus danych\n",
    "        data = f.read().lower()                                           # zamień wszystkie wielkie litery na małe\n",
    "        n_grams = get_character_ngrams(data, n_gram_len)                   # wygeneruj wszystkie n-gramy słów z korpusu\n",
    "        for n_gram in n_grams:                   # dla każdego n-gramu...\n",
    "            context = n_gram[:-1]  # weź wszystkie znaki n-gramu poza ostatnim \n",
    "            last_char = n_gram[-1] # weź ostatni znak n-gramu\n",
    "            if context not in markov_dict.keys(): # jeśli n-gram ubiedzony o ostatni znak nie występuje jeszcze w słowniku\n",
    "                markov_dict[context] = list()     # to dopiszmy go do słownika i stwórzmy mu listę\n",
    "            markov_dict[context].append(last_char) # wiedząc, że ubiedzony n-gram jest w słowniku - dopiszmy ostatni znak do listy\n",
    "    \n",
    "    for context in markov_dict.keys():                        # dla każdego kontekstu (ubiedzonego n-gramu)\n",
    "        markov_dict[context] = Counter(markov_dict[context])  # stwórz histogram liter jakie występują w korpusie po tym kontekście\n",
    "    \n",
    "    return markov_dict\n",
    "\n",
    "\n",
    "text = 'probability' # tekst, od którego zaczniemy generowanie\n",
    "n_gram_len = 3  # liczba znaków do stworznia n-gramu\n",
    "markov_dict = generate_ngram_markov(n_gram_len)  # stworzenie słownika z histogramami słów dla poszczególnych kontekstów\n",
    "\n",
    "for i in range(1000):               # powtórzmy 500 razy ...\n",
    "    context = text[-n_gram_len+1:]   # pobierzmy ostatnie n_gram_len - 1 słów\n",
    "    idx = random.randrange(sum(markov_dict[context].values())) # sprawdźmy słowa, które są dozwolone jako następniki naszego kontekstu (context) i wybierzmy taki następnik, który zostanie wylosowany zgodnie z rozkładem stworzonym przez histogram.\n",
    "    new_char = next(itertools.islice(markov_dict[context].elements(), idx, None)) # wybierzmy wylosowane słowo\n",
    "    text = text + new_char # doklejmy wylosowany znak na końcu\n",
    "\n",
    "print(text)"
   ]
  },
  {
   "cell_type": "code",
   "execution_count": null,
   "metadata": {},
   "outputs": [],
   "source": []
  }
 ],
 "metadata": {
  "anaconda-cloud": {},
  "kernelspec": {
   "display_name": "Python 3",
   "language": "python",
   "name": "python3"
  },
  "language_info": {
   "codemirror_mode": {
    "name": "ipython",
    "version": 3
   },
   "file_extension": ".py",
   "mimetype": "text/x-python",
   "name": "python",
   "nbconvert_exporter": "python",
   "pygments_lexer": "ipython3",
   "version": "3.7.1"
  }
 },
 "nbformat": 4,
 "nbformat_minor": 1
}
