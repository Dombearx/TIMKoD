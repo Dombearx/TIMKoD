{
 "cells": [
  {
   "cell_type": "code",
   "execution_count": 1,
   "metadata": {},
   "outputs": [],
   "source": [
    "#Kompresja LZW\n",
    "\n",
    "#jednocześnie tworzenie słownika i kodowanie"
   ]
  },
  {
   "cell_type": "code",
   "execution_count": 176,
   "metadata": {},
   "outputs": [],
   "source": [
    "from random import randint\n",
    "import random as random\n",
    "from math import log\n",
    "import bitarray as ba\n",
    "import operator\n",
    "import struct"
   ]
  },
  {
   "cell_type": "code",
   "execution_count": 177,
   "metadata": {},
   "outputs": [],
   "source": [
    "def read_file(file):\n",
    "    return open(file).read()"
   ]
  },
  {
   "cell_type": "code",
   "execution_count": 178,
   "metadata": {},
   "outputs": [],
   "source": [
    "#słownik dla liczb od 0 - 255\n",
    "def generateDictionary():\n",
    "    dict = {}\n",
    "    for i in range(256):\n",
    "        dict[bin(i)[2:].zfill(8)] = i\n",
    "    \n",
    "    return dict"
   ]
  },
  {
   "cell_type": "code",
   "execution_count": 222,
   "metadata": {},
   "outputs": [],
   "source": [
    "def save_file(file_name, code):\n",
    "    file = open(file_name, 'w')\n",
    "    \n",
    "    file.write(str(code))\n",
    "    \n",
    "    file.close()\n",
    "    return file"
   ]
  },
  {
   "cell_type": "code",
   "execution_count": 179,
   "metadata": {},
   "outputs": [],
   "source": [
    "def read_file_bin(file_name):\n",
    "    bit_array = ba.bitarray()\n",
    "    with open(file_name, 'rb') as fh:\n",
    "        bit_array.fromfile(fh)\n",
    "    return bit_array"
   ]
  },
  {
   "cell_type": "code",
   "execution_count": 180,
   "metadata": {},
   "outputs": [],
   "source": [
    "def save_file_bin(file_name, bit_array):\n",
    "    with open(file_name, 'wb') as fh:\n",
    "        bit_array.tofile(fh)\n",
    "    return 1"
   ]
  },
  {
   "cell_type": "code",
   "execution_count": null,
   "metadata": {},
   "outputs": [],
   "source": []
  },
  {
   "cell_type": "code",
   "execution_count": 223,
   "metadata": {},
   "outputs": [],
   "source": [
    "#Zapis kodu i zakodowanego tekstu do pliku\n",
    "def save(file_name, file, code_len):\n",
    "    \n",
    "    save_file_bin(file_name, file)  \n",
    "    save_file(\"kod\", code_len)\n",
    "    \n",
    "    return 0"
   ]
  },
  {
   "cell_type": "code",
   "execution_count": 201,
   "metadata": {},
   "outputs": [],
   "source": [
    "#Koduje tekst\n",
    "def encode(text, maxDictionarySize):\n",
    "    dictionary = generateDictionary()\n",
    "    \n",
    "    numbers = []\n",
    "    max_dict_val = max(dictionary.values())\n",
    "    \n",
    "    \n",
    "    coded_text = ba.bitarray()\n",
    "    \n",
    "    p = text[0:8].to01()\n",
    "    \n",
    "    for i in range(8, len(text), 8):\n",
    "        #c - obecny ciąg binarny\n",
    "        c = text[i:i+8].to01()\n",
    "        \n",
    "        if(len(dictionary) < maxDictionarySize or maxDictionarySize == -1):\n",
    "            #słownik nie osiągnąl maksymalnego rozmiaru\n",
    "            if p + c in dictionary:\n",
    "                #kod znajduje się w słowniku\n",
    "                p = p + c\n",
    "            else:\n",
    "                #kod nie znajduje się w słowniku\n",
    "                numbers.append(dictionary[p])\n",
    "                max_dict_val += 1\n",
    "                dictionary[p + c] = max_dict_val                        \n",
    "                p = c\n",
    "        else:        \n",
    "            if p + c in dictionary:\n",
    "                #kod znajduje się w słowniku\n",
    "                p = p + c\n",
    "            else:\n",
    "                #kod nie znajduje się w słowniku\n",
    "                numbers.append(dictionary[p])                   \n",
    "                p = c\n",
    "    if(p in dictionary):    \n",
    "        numbers.append(dictionary[p])\n",
    "    else:\n",
    "        numbers.append(dictionary[c])\n",
    "        \n",
    "    max_number = max(numbers)\n",
    "    max_length = len(bin(max_number)[2:])\n",
    "    \n",
    "    \n",
    "\n",
    "    for number in numbers:\n",
    "        for b in bin(number)[2:].zfill(max_length):\n",
    "            if b == '1':\n",
    "                coded_text.append(True)\n",
    "            else:\n",
    "                coded_text.append(False) \n",
    "  \n",
    "    print(\"done\")\n",
    "    return coded_text, max_length\n"
   ]
  },
  {
   "cell_type": "code",
   "execution_count": 196,
   "metadata": {},
   "outputs": [],
   "source": [
    "#Dekoduje tekst\n",
    "def decode(coded_text, code_len):\n",
    "    \n",
    "    dictionary = generateDictionary()\n",
    "    \n",
    "    #swap key and value\n",
    "    dictionary = dict((v,k) for k,v in dictionary.items())\n",
    "    \n",
    "    max_dict_val = max(dictionary.keys())\n",
    "    \n",
    "    encoded_text = ba.bitarray()    \n",
    "    \n",
    "    #pierwszy element dodany do słownika\n",
    "    p = coded_text[0:code_len].to01()\n",
    "    p = int(p, 2)\n",
    "    max_dict_val += 1 \n",
    "    dictionary[max_dict_val] = dictionary[p]\n",
    "    \n",
    "    for b in dictionary[p]:      \n",
    "        if b == '1':\n",
    "            encoded_text.append(True)\n",
    "        else:\n",
    "            encoded_text.append(False)    \n",
    "\n",
    "    #ucięcie nadmiarowych bitów jeżeli wystąpiły podczas zapisywania\n",
    "    length = (len(coded_text) // code_len) * code_len\n",
    "\n",
    "    for i in range(code_len, length, code_len):\n",
    "        #c - obecny ciąg binarny\n",
    "        c = coded_text[i:i+code_len].to01()\n",
    "        c = int(c, 2) \n",
    "\n",
    "        dictionary[max_dict_val] = dictionary[max_dict_val] + dictionary[c][:8]\n",
    "        \n",
    "        for b in dictionary[c]:\n",
    "            if b == '1':\n",
    "                encoded_text.append(True)\n",
    "            else:\n",
    "                encoded_text.append(False) \n",
    "        \n",
    "        max_dict_val += 1 \n",
    "        dictionary[max_dict_val] = dictionary[c]\n",
    "        \n",
    "    print(\"done\")\n",
    "    return encoded_text\n"
   ]
  },
  {
   "cell_type": "code",
   "execution_count": 230,
   "metadata": {},
   "outputs": [],
   "source": [
    "#Wczytuje plik binarny\n",
    "def load(file_name):\n",
    "    \n",
    "    file = read_file_bin(file_name)\n",
    "    code_len = read_file(\"kod\")\n",
    "    return file, int(code_len)"
   ]
  },
  {
   "cell_type": "code",
   "execution_count": 198,
   "metadata": {},
   "outputs": [],
   "source": [
    "def compare_strings(original, new_string):\n",
    "    for org, new in zip(original, new_string):\n",
    "        if org != new:\n",
    "            print(org, \"!=\", new)\n",
    "            return \"Teksty są różne\"\n",
    "    return \"Teksty sa równe\""
   ]
  },
  {
   "cell_type": "code",
   "execution_count": null,
   "metadata": {},
   "outputs": [],
   "source": []
  },
  {
   "cell_type": "code",
   "execution_count": 199,
   "metadata": {},
   "outputs": [],
   "source": [
    "#Odczytanie oryginalnego pliku\n",
    "wikipedia = read_file_bin(\"norm_wiki_sample.txt\")"
   ]
  },
  {
   "cell_type": "code",
   "execution_count": 202,
   "metadata": {},
   "outputs": [
    {
     "name": "stdout",
     "output_type": "stream",
     "text": [
      "done\n"
     ]
    }
   ],
   "source": [
    "#Zakodowanie pliku\n",
    "coded_wikipedia, code_len = encode(wikipedia, pow(2, 18))"
   ]
  },
  {
   "cell_type": "code",
   "execution_count": 224,
   "metadata": {},
   "outputs": [
    {
     "data": {
      "text/plain": [
       "0"
      ]
     },
     "execution_count": 224,
     "metadata": {},
     "output_type": "execute_result"
    }
   ],
   "source": [
    "#Zapisanie zakodowanego pliku\n",
    "save(\"coded_wikipedia\", coded_wikipedia, code_len)"
   ]
  },
  {
   "cell_type": "code",
   "execution_count": 231,
   "metadata": {},
   "outputs": [],
   "source": [
    "#Wczytanie zakodowanego pliku\n",
    "coded_wikipedia, code_len = load(\"coded_wikipedia\")"
   ]
  },
  {
   "cell_type": "code",
   "execution_count": 233,
   "metadata": {
    "scrolled": true
   },
   "outputs": [
    {
     "name": "stdout",
     "output_type": "stream",
     "text": [
      "done\n"
     ]
    }
   ],
   "source": [
    "#Odkodowanie pliku\n",
    "decoded_wikipedia = decode(coded_wikipedia, code_len)"
   ]
  },
  {
   "cell_type": "code",
   "execution_count": 206,
   "metadata": {},
   "outputs": [
    {
     "data": {
      "text/plain": [
       "0"
      ]
     },
     "execution_count": 206,
     "metadata": {},
     "output_type": "execute_result"
    }
   ],
   "source": [
    "#Zapisanie odkodowanego pliku\n",
    "save(\"wikipedia2.txt\", decoded_wikipedia)"
   ]
  },
  {
   "cell_type": "code",
   "execution_count": 207,
   "metadata": {},
   "outputs": [
    {
     "data": {
      "text/plain": [
       "'Teksty sa równe'"
      ]
     },
     "execution_count": 207,
     "metadata": {},
     "output_type": "execute_result"
    }
   ],
   "source": [
    "#Porównanie plików bit po bicie\n",
    "compare_strings(decoded_wikipedia, wikipedia)"
   ]
  },
  {
   "cell_type": "code",
   "execution_count": null,
   "metadata": {},
   "outputs": [],
   "source": []
  },
  {
   "cell_type": "code",
   "execution_count": null,
   "metadata": {},
   "outputs": [],
   "source": []
  },
  {
   "cell_type": "code",
   "execution_count": null,
   "metadata": {},
   "outputs": [],
   "source": []
  },
  {
   "cell_type": "code",
   "execution_count": 208,
   "metadata": {},
   "outputs": [
    {
     "data": {
      "text/plain": [
       "0.6170131989784725"
      ]
     },
     "execution_count": 208,
     "metadata": {},
     "output_type": "execute_result"
    }
   ],
   "source": [
    "1 - len(coded_wikipedia) / len(wikipedia)"
   ]
  },
  {
   "cell_type": "code",
   "execution_count": 209,
   "metadata": {},
   "outputs": [
    {
     "data": {
      "text/plain": [
       "-1.6110560398758769"
      ]
     },
     "execution_count": 209,
     "metadata": {},
     "output_type": "execute_result"
    }
   ],
   "source": [
    "1 - len(wikipedia) / len(coded_wikipedia)"
   ]
  },
  {
   "cell_type": "code",
   "execution_count": 210,
   "metadata": {},
   "outputs": [],
   "source": [
    "#Wyniki\n",
    "#norm_wiki_sample.txt\n",
    "#bez ograniczeń\n",
    "    #Zmniejszenie rozmiaru o 61%\n",
    "#2^18\n",
    "    #Zmniejszenie rozmiaru o 61%\n",
    "#2^12\n",
    "    #Zmniejszenie rozmiaru o 49%\n",
    "\n",
    "#wiki_sample.txt\n",
    "#bez ograniczeń\n",
    "    #Zmniejszenie rozmiaru o 60%\n",
    "#2^18\n",
    "    #Zmniejszenie rozmiaru o 59%\n",
    "#2^12\n",
    "    #Zmniejszenie rozmiaru o 44%\n",
    "\n",
    "#lena.bmp\n",
    "#bez ograniczeń\n",
    "    #Zmniejszenie rozmiaru o 35%\n",
    "#2^18\n",
    "    #Zwiększenie rozmiaru o 14%\n",
    "#2^12\n",
    "    #Zmniejszenie rozmiaru o 10%\n"
   ]
  },
  {
   "cell_type": "code",
   "execution_count": null,
   "metadata": {},
   "outputs": [],
   "source": []
  },
  {
   "cell_type": "code",
   "execution_count": null,
   "metadata": {},
   "outputs": [],
   "source": []
  },
  {
   "cell_type": "code",
   "execution_count": null,
   "metadata": {},
   "outputs": [],
   "source": []
  },
  {
   "cell_type": "code",
   "execution_count": null,
   "metadata": {},
   "outputs": [],
   "source": []
  },
  {
   "cell_type": "code",
   "execution_count": null,
   "metadata": {},
   "outputs": [],
   "source": []
  },
  {
   "cell_type": "code",
   "execution_count": null,
   "metadata": {
    "collapsed": true
   },
   "outputs": [],
   "source": []
  }
 ],
 "metadata": {
  "kernelspec": {
   "display_name": "Python 3",
   "language": "python",
   "name": "python3"
  },
  "language_info": {
   "codemirror_mode": {
    "name": "ipython",
    "version": 3
   },
   "file_extension": ".py",
   "mimetype": "text/x-python",
   "name": "python",
   "nbconvert_exporter": "python",
   "pygments_lexer": "ipython3",
   "version": "3.7.3"
  }
 },
 "nbformat": 4,
 "nbformat_minor": 1
}
