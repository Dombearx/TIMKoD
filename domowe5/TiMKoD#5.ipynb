{
 "cells": [
  {
   "cell_type": "code",
   "execution_count": 1,
   "metadata": {},
   "outputs": [],
   "source": [
    "#efektywność kodowania\n",
    "#Eff = H / L\n",
    "#gdzie:\n",
    "# H - entropia \n",
    "# L - średnia długość słów kodowych\n",
    "#Eff <0, 1>\n"
   ]
  },
  {
   "cell_type": "code",
   "execution_count": 2,
   "metadata": {},
   "outputs": [],
   "source": [
    "from random import randint\n",
    "import random as random\n",
    "from math import log\n",
    "import bitarray as ba\n",
    "import operator"
   ]
  },
  {
   "cell_type": "code",
   "execution_count": 3,
   "metadata": {},
   "outputs": [],
   "source": [
    "def read_file(file):\n",
    "    return open(file).read()"
   ]
  },
  {
   "cell_type": "code",
   "execution_count": 4,
   "metadata": {},
   "outputs": [],
   "source": [
    "def entropia(probability):\n",
    "    h = 0\n",
    "    for p in probability:\n",
    "        h += p * log(p, 2)\n",
    "    \n",
    "    h = -h\n",
    "    return h"
   ]
  },
  {
   "cell_type": "code",
   "execution_count": 5,
   "metadata": {},
   "outputs": [],
   "source": [
    "def countChars(text2):\n",
    "    chars = {}\n",
    "    for char in list(text2):\n",
    "        if char in chars:\n",
    "            chars[char] += 1\n",
    "        else:\n",
    "            chars[char] = 1\n",
    "    return chars"
   ]
  },
  {
   "cell_type": "code",
   "execution_count": 6,
   "metadata": {},
   "outputs": [],
   "source": [
    "def obliczPrawdopodobienstwoWystapieniaNgramu(ngrams):\n",
    "    probability = []\n",
    "    occurences_sum = sum(ngrams.values())\n",
    "    \n",
    "    for ngram, occurences in ngrams.items():\n",
    "        probability.append(occurences / occurences_sum)\n",
    "        \n",
    "    return probability"
   ]
  },
  {
   "cell_type": "code",
   "execution_count": 7,
   "metadata": {},
   "outputs": [],
   "source": [
    "def obliczEntropieZnakowa(plik):\n",
    "    counts = countChars(plik)\n",
    "    probability = obliczPrawdopodobienstwoWystapieniaNgramu(counts)\n",
    "    \n",
    "    return entropia(probability)"
   ]
  },
  {
   "cell_type": "code",
   "execution_count": 8,
   "metadata": {},
   "outputs": [],
   "source": [
    "wikipedia = read_file(\"norm_wiki_sample.txt\")"
   ]
  },
  {
   "cell_type": "code",
   "execution_count": 9,
   "metadata": {},
   "outputs": [],
   "source": [
    "entropia_wikipedii = obliczEntropieZnakowa(wikipedia)"
   ]
  },
  {
   "cell_type": "code",
   "execution_count": 10,
   "metadata": {},
   "outputs": [],
   "source": [
    "#drzewa\n",
    "#na początek każda litera jest drzewem\n",
    "#bierzemy 2 z najmniejszym, prawdopodobieństwem\n",
    "#łączymy je w jedno drzewo \n",
    "#ZNAK(prawdopodobieństwo)\n",
    "# A(1/3) B(1/3) C(1/9) D(1/9) E(1/9)\n",
    "#(krok 1)\n",
    "#   CD (prawdopodobieństwo się sumuje)\n",
    "#  /  \\\n",
    "# C    D\n",
    "\n",
    "#Łączymy aż zostanie jedno drzewo\n",
    "#(krok 2)\n",
    "#        CDE\n",
    "#       /   \\ \n",
    "#      CD    E\n",
    "#     /  \\ \n",
    "#    C    D\n",
    "\n",
    "#         ABCDE\n",
    "#      0/      \\1 \n",
    "#      AB      CDE\n",
    "#   00/  \\01 10/  \\11 \n",
    "#    A    B   CD   E\n",
    "#         100/ \\101\n",
    "#           C   D\n",
    "\n",
    "\n",
    "#Do lewych krawędzi przypisujemy 0, do prawych 1 (bierzemy to co już było \n",
    "# i oddajemy znak)\n",
    "#jak coś jest kodem to nie jest prefixem innego kodu\n",
    "#w tym przykładzie wyjdzie:\n",
    "#A - 00\n",
    "#B - 01\n",
    "#C - 100\n",
    "#D - 101\n",
    "#E - 11\n",
    "#odczytujemy po jednym znaku i sprwadzamy, czy istnieje taki kod, jak istnieje to\n",
    "#na pewno jest to już cały kod, bo żaden kod nie jest prefixem innego\n"
   ]
  },
  {
   "cell_type": "code",
   "execution_count": 11,
   "metadata": {},
   "outputs": [],
   "source": [
    "efektywnosc_kodowania = entropia_wikipedii / 6"
   ]
  },
  {
   "cell_type": "code",
   "execution_count": 12,
   "metadata": {},
   "outputs": [
    {
     "name": "stdout",
     "output_type": "stream",
     "text": [
      "71.3399374450261 %\n"
     ]
    }
   ],
   "source": [
    "#Efektywnosc kodowania z ostatnich zajęć\n",
    "print(efektywnosc_kodowania * 100, \"%\")\n"
   ]
  },
  {
   "cell_type": "code",
   "execution_count": 13,
   "metadata": {},
   "outputs": [],
   "source": [
    "chars = countChars(wikipedia)"
   ]
  },
  {
   "cell_type": "code",
   "execution_count": 14,
   "metadata": {},
   "outputs": [],
   "source": [
    "#DRZEWO\n",
    "class Tree:\n",
    "    def __init__(self):\n",
    "        self.left = None\n",
    "        self.right = None\n",
    "        self.parent = None\n",
    "        self.char = None\n",
    "        self.prob = None"
   ]
  },
  {
   "cell_type": "code",
   "execution_count": 15,
   "metadata": {},
   "outputs": [],
   "source": [
    "# OBSŁUGA DRZEWA\n",
    "#          root = Tree()\n",
    "#          root.data = \"root\"\n",
    "#          root.left = Tree()\n",
    "#          root.left.data = \"left\"\n",
    "#          root.right = Tree()\n",
    "#          root.right.data = \"right\""
   ]
  },
  {
   "cell_type": "code",
   "execution_count": null,
   "metadata": {},
   "outputs": [],
   "source": []
  },
  {
   "cell_type": "code",
   "execution_count": null,
   "metadata": {},
   "outputs": [],
   "source": []
  },
  {
   "cell_type": "code",
   "execution_count": 19,
   "metadata": {},
   "outputs": [],
   "source": [
    "def getLeaf(tree, code):\n",
    "    #Istnieje lewe poddrzewo\n",
    "    if(tree.left != None):\n",
    "        code += \"0\"\n",
    "        return getLeaf(tree.left, code)\n",
    "    #istnieje prawe poddrzewo\n",
    "    if(tree.right != None):\n",
    "        code += \"1\"\n",
    "        return getLeaf(tree.right, code)\n",
    "    #zwraca liść\n",
    "    \n",
    "    return tree, code"
   ]
  },
  {
   "cell_type": "code",
   "execution_count": null,
   "metadata": {},
   "outputs": [],
   "source": [
    "  "
   ]
  },
  {
   "cell_type": "code",
   "execution_count": 20,
   "metadata": {},
   "outputs": [],
   "source": [
    "#Tworzy kod na podstawie listy częstości znaków\n",
    "def create(chars):\n",
    "    code = {}\n",
    "    \n",
    "    #Posortowanie tak, aby najpierw były te występujące najrzadziej \n",
    "    sorted_chars = sorted(chars.items(), key=operator.itemgetter(1), reverse=False)\n",
    "    print(type(sorted_chars))\n",
    "    \n",
    "    #Utwrzenie posrtowanej według prawdopodobieństw listy drzew\n",
    "    tree_list = []\n",
    "    for char, prob in sorted_chars:\n",
    "        tree = Tree()\n",
    "        tree.char = char\n",
    "        tree.prob = prob\n",
    "        tree_list.append(tree)\n",
    "        \n",
    "    while(len(tree_list) > 1) :\n",
    "        #Łączenie drzew\n",
    "        left_element = tree_list[0]\n",
    "        right_element = tree_list[1]\n",
    "        \n",
    "        #Utworzenie nowego drzewa\n",
    "        tree = Tree()\n",
    "        tree.char = left_element.char + right_element.char\n",
    "        tree.prob = left_element.prob + right_element.prob\n",
    "        tree.left = left_element\n",
    "        tree.right = right_element\n",
    "        \n",
    "        #dodanie rodzica do starych drzew\n",
    "        left_element.parent = tree\n",
    "        right_element.parent = tree\n",
    "        \n",
    "        \n",
    "        #Usunięcie elementów scalonych w jedno drzewo\n",
    "        del tree_list[0]\n",
    "        del tree_list[0]\n",
    "        \n",
    "        #dodanie nowego drzewa do listy\n",
    "        tree_list.append(tree)       \n",
    "        #ponowne posortowanie listy drzew\n",
    "        tree_list = sorted(tree_list, key=lambda x: x.prob, reverse=False)\n",
    "        \n",
    "   \n",
    "    tree = tree_list[0]\n",
    "    \n",
    "    while(tree.right != None):\n",
    "        new_code = \"\"\n",
    "        leaf, new_code = getLeaf(tree, new_code)\n",
    "        if(len(leaf.char) == 1):\n",
    "            code[leaf.char] = new_code\n",
    "        if(leaf.parent.left != None):\n",
    "            leaf.parent.left = None\n",
    "        else:\n",
    "            leaf.parent.right = None\n",
    "        \n",
    "        \n",
    "    return code"
   ]
  },
  {
   "cell_type": "code",
   "execution_count": null,
   "metadata": {},
   "outputs": [],
   "source": []
  },
  {
   "cell_type": "code",
   "execution_count": null,
   "metadata": {},
   "outputs": [],
   "source": []
  },
  {
   "cell_type": "code",
   "execution_count": 21,
   "metadata": {},
   "outputs": [
    {
     "name": "stdout",
     "output_type": "stream",
     "text": [
      "<class 'list'>\n"
     ]
    }
   ],
   "source": [
    "code = create(chars)"
   ]
  },
  {
   "cell_type": "code",
   "execution_count": 23,
   "metadata": {},
   "outputs": [
    {
     "data": {
      "text/plain": [
       "{'e': '000',\n",
       " 'm': '00100',\n",
       " 'y': '001010',\n",
       " 'k': '0010110',\n",
       " '4': '001011100',\n",
       " 'x': '001011101',\n",
       " '5': '001011110',\n",
       " '3': '001011111',\n",
       " 's': '0011',\n",
       " 'w': '010000',\n",
       " 'b': '010001',\n",
       " 'c': '01001',\n",
       " 'r': '0101',\n",
       " 'o': '0110',\n",
       " 'n': '0111',\n",
       " 'i': '1000',\n",
       " 'd': '10010',\n",
       " '2': '10011000',\n",
       " '9': '10011001',\n",
       " 'v': '1001101',\n",
       " 'g': '100111',\n",
       " 't': '1010',\n",
       " 'p': '101100',\n",
       " 'f': '101101',\n",
       " 'l': '10111',\n",
       " 'a': '1100',\n",
       " 'h': '11010',\n",
       " '8': '110110000',\n",
       " 'j': '110110001',\n",
       " '0': '11011001',\n",
       " 'q': '1101101000',\n",
       " 'z': '1101101001',\n",
       " '6': '1101101010',\n",
       " '7': '1101101011',\n",
       " '1': '11011011',\n",
       " 'u': '110111',\n",
       " ' ': '111'}"
      ]
     },
     "execution_count": 23,
     "metadata": {},
     "output_type": "execute_result"
    }
   ],
   "source": [
    "code"
   ]
  },
  {
   "cell_type": "code",
   "execution_count": 24,
   "metadata": {},
   "outputs": [],
   "source": [
    "#Koduje tekst\n",
    "def encode(text, code):\n",
    "    \n",
    "    coded_text = ba.bitarray()\n",
    "    for char in text:\n",
    "        binary = code[char]\n",
    "        \n",
    "        for b in binary:\n",
    "            if b == '1':\n",
    "                coded_text.append(True)\n",
    "            else:\n",
    "                coded_text.append(False)\n",
    "    \n",
    "    return coded_text"
   ]
  },
  {
   "cell_type": "code",
   "execution_count": 25,
   "metadata": {},
   "outputs": [],
   "source": [
    "import struct"
   ]
  },
  {
   "cell_type": "code",
   "execution_count": 26,
   "metadata": {},
   "outputs": [],
   "source": [
    "#Dekoduje tekst\n",
    "def decode(coded_text, code):\n",
    "    text = []\n",
    "    codeSwapped = dict((v,k) for k,v in code.items())\n",
    "    bits = \"\"\n",
    "    \n",
    "    for i in range(0, len(coded_text), 1):\n",
    "        if(coded_text[i] == True):\n",
    "            bits += \"1\"\n",
    "        else:\n",
    "            bits += \"0\"\n",
    "        if bits in codeSwapped:\n",
    "            text.append(codeSwapped[str(bits)])\n",
    "            bits = \"\"\n",
    "        \n",
    "    return ''.join(text) "
   ]
  },
  {
   "cell_type": "code",
   "execution_count": null,
   "metadata": {},
   "outputs": [],
   "source": []
  },
  {
   "cell_type": "code",
   "execution_count": null,
   "metadata": {},
   "outputs": [],
   "source": []
  },
  {
   "cell_type": "code",
   "execution_count": 27,
   "metadata": {},
   "outputs": [],
   "source": [
    "def save_file(file_name, code):\n",
    "    result = open(file_name, 'w')\n",
    "    \n",
    "    for text, num in code.items():\n",
    "        result.write(text + \";\" + str(num) + \";\")\n",
    "    \n",
    "    result.close()\n",
    "    return result"
   ]
  },
  {
   "cell_type": "code",
   "execution_count": 28,
   "metadata": {},
   "outputs": [],
   "source": [
    "def save_file_bin(file_name, bit_array):\n",
    "    with open(file_name, 'wb') as fh:\n",
    "        bit_array.tofile(fh)\n",
    "    return 1"
   ]
  },
  {
   "cell_type": "code",
   "execution_count": 29,
   "metadata": {},
   "outputs": [],
   "source": [
    "def read_file_bin(file_name):\n",
    "    bit_array = ba.bitarray()\n",
    "    with open(file_name, 'rb') as fh:\n",
    "        bit_array.fromfile(fh)\n",
    "    return bit_array"
   ]
  },
  {
   "cell_type": "code",
   "execution_count": 30,
   "metadata": {},
   "outputs": [],
   "source": [
    "def read_bitarray(text):\n",
    "    array = ba.bitarray()\n",
    "    print(str.encode(text))\n",
    "    array.frombytes(str.encode(text))\n",
    "\n",
    "    return array   "
   ]
  },
  {
   "cell_type": "code",
   "execution_count": null,
   "metadata": {},
   "outputs": [],
   "source": []
  },
  {
   "cell_type": "code",
   "execution_count": 31,
   "metadata": {},
   "outputs": [],
   "source": [
    "#Zapis kodu i zakodowanego tekstu do pliku\n",
    "def save(text, code, file_name, file_name_code):\n",
    "    \n",
    "    save_file_bin(file_name, text)\n",
    "    save_file(file_name_code, code)\n",
    "    \n",
    "    return 0"
   ]
  },
  {
   "cell_type": "code",
   "execution_count": 32,
   "metadata": {},
   "outputs": [],
   "source": [
    "#Wczytuje kod oraz tekst\n",
    "def load(file_name, code_file_name):\n",
    "    \n",
    "    code_file = read_file(code_file_name)\n",
    "    split = code_file.split(\";\")\n",
    "    code = {}\n",
    "    for char, num in zip(split[0::2], split[1::2]):\n",
    "        code[char] = num\n",
    "        \n",
    "    text = read_file_bin(file_name)\n",
    "    return text, code"
   ]
  },
  {
   "cell_type": "code",
   "execution_count": null,
   "metadata": {},
   "outputs": [],
   "source": []
  },
  {
   "cell_type": "code",
   "execution_count": 33,
   "metadata": {},
   "outputs": [],
   "source": [
    "def compare_strings(original, new_string):\n",
    "    for org, new in zip(original, new_string):\n",
    "        if org != new:\n",
    "            print(org, \"!=\", new)\n",
    "            return \"Teksty są różne\"\n",
    "    return \"Teksty sa równe\""
   ]
  },
  {
   "cell_type": "code",
   "execution_count": 34,
   "metadata": {},
   "outputs": [],
   "source": [
    "encoded = encode(wikipedia, code)"
   ]
  },
  {
   "cell_type": "code",
   "execution_count": 35,
   "metadata": {},
   "outputs": [
    {
     "data": {
      "text/plain": [
       "0"
      ]
     },
     "execution_count": 35,
     "metadata": {},
     "output_type": "execute_result"
    }
   ],
   "source": [
    "save(encoded, code, \"zakodowany\", \"kod\")"
   ]
  },
  {
   "cell_type": "code",
   "execution_count": 36,
   "metadata": {},
   "outputs": [],
   "source": [
    "coded, code = load(\"zakodowany\", \"kod\")"
   ]
  },
  {
   "cell_type": "code",
   "execution_count": 37,
   "metadata": {},
   "outputs": [],
   "source": [
    "decoded = decode(coded, code)"
   ]
  },
  {
   "cell_type": "code",
   "execution_count": 38,
   "metadata": {},
   "outputs": [
    {
     "data": {
      "text/plain": [
       "'Teksty sa równe'"
      ]
     },
     "execution_count": 38,
     "metadata": {},
     "output_type": "execute_result"
    }
   ],
   "source": [
    "compare_strings(wikipedia, decoded)"
   ]
  },
  {
   "cell_type": "code",
   "execution_count": null,
   "metadata": {},
   "outputs": [],
   "source": []
  },
  {
   "cell_type": "code",
   "execution_count": 40,
   "metadata": {},
   "outputs": [],
   "source": [
    "length = 0\n",
    "i = 0\n",
    "\n",
    "for char, c in code.items():\n",
    "    i += chars[char]\n",
    "    length += len(c) * chars[char]\n",
    "    \n",
    "\n",
    "oczekiwana_dlugosc_kodu = length / i"
   ]
  },
  {
   "cell_type": "code",
   "execution_count": 41,
   "metadata": {},
   "outputs": [
    {
     "data": {
      "text/plain": [
       "4.3090155002237935"
      ]
     },
     "execution_count": 41,
     "metadata": {},
     "output_type": "execute_result"
    }
   ],
   "source": [
    "oczekiwana_dlugosc_kodu"
   ]
  },
  {
   "cell_type": "code",
   "execution_count": 42,
   "metadata": {},
   "outputs": [],
   "source": [
    "efektywnosc_kodowania2 = entropia_wikipedii / oczekiwana_dlugosc_kodu"
   ]
  },
  {
   "cell_type": "code",
   "execution_count": 43,
   "metadata": {},
   "outputs": [
    {
     "data": {
      "text/plain": [
       "0.9933582848516693"
      ]
     },
     "execution_count": 43,
     "metadata": {},
     "output_type": "execute_result"
    }
   ],
   "source": [
    "efektywnosc_kodowania2"
   ]
  },
  {
   "cell_type": "code",
   "execution_count": null,
   "metadata": {
    "collapsed": true
   },
   "outputs": [],
   "source": []
  }
 ],
 "metadata": {
  "kernelspec": {
   "display_name": "Python 3",
   "language": "python",
   "name": "python3"
  },
  "language_info": {
   "codemirror_mode": {
    "name": "ipython",
    "version": 3
   },
   "file_extension": ".py",
   "mimetype": "text/x-python",
   "name": "python",
   "nbconvert_exporter": "python",
   "pygments_lexer": "ipython3",
   "version": "3.7.3"
  }
 },
 "nbformat": 4,
 "nbformat_minor": 1
}
