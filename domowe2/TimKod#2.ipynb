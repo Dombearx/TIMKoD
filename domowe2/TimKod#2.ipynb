{
 "cells": [
  {
   "cell_type": "code",
   "execution_count": 1,
   "metadata": {
    "collapsed": true
   },
   "outputs": [],
   "source": [
    "from random import randint\n",
    "import random as random"
   ]
  },
  {
   "cell_type": "code",
   "execution_count": 2,
   "metadata": {
    "collapsed": true
   },
   "outputs": [],
   "source": [
    "def readFile(file):\n",
    "    return open(file).read()"
   ]
  },
  {
   "cell_type": "code",
   "execution_count": 3,
   "metadata": {
    "collapsed": false
   },
   "outputs": [
    {
     "name": "stdout",
     "output_type": "stream",
     "text": [
      "test\n"
     ]
    }
   ],
   "source": [
    "#ZADANIE 1\n",
    "print(\"test\")"
   ]
  },
  {
   "cell_type": "code",
   "execution_count": 4,
   "metadata": {
    "collapsed": true
   },
   "outputs": [],
   "source": [
    "wikipedia = readFile(\"norm_wiki_sample.txt\")\n",
    "romeo = readFile(\"norm_romeo_and_juliet.txt\")"
   ]
  },
  {
   "cell_type": "code",
   "execution_count": 7,
   "metadata": {
    "collapsed": false
   },
   "outputs": [],
   "source": [
    "def countWords(text):\n",
    "    words = text.split() \n",
    "    wordsList = []\n",
    "    counts = []\n",
    "    \n",
    "    maxWords = len(words)\n",
    "    progress = 0\n",
    "    i = 1\n",
    "    \n",
    "    for word in words:\n",
    "        if word in wordsList:\n",
    "            counts[wordsList.index(word)] += 1\n",
    "        else:\n",
    "            wordsList.append(word)\n",
    "            counts.append(1)\n",
    "        progress += 1\n",
    "        \n",
    "        if progress > i * (len(words) / 100):\n",
    "            print(i, \"%\")\n",
    "            i += 1\n",
    "        \n",
    "            \n",
    "    return wordsList, counts\n",
    "    "
   ]
  },
  {
   "cell_type": "code",
   "execution_count": 8,
   "metadata": {
    "collapsed": false
   },
   "outputs": [
    {
     "name": "stdout",
     "output_type": "stream",
     "text": [
      "1 %\n",
      "2 %\n",
      "3 %\n",
      "4 %\n",
      "5 %\n",
      "6 %\n",
      "7 %\n",
      "8 %\n",
      "9 %\n",
      "10 %\n",
      "11 %\n",
      "12 %\n",
      "13 %\n",
      "14 %\n",
      "15 %\n",
      "16 %\n",
      "17 %\n",
      "18 %\n",
      "19 %\n",
      "20 %\n",
      "21 %\n",
      "22 %\n",
      "23 %\n",
      "24 %\n",
      "25 %\n",
      "26 %\n",
      "27 %\n",
      "28 %\n",
      "29 %\n",
      "30 %\n",
      "31 %\n",
      "32 %\n",
      "33 %\n",
      "34 %\n",
      "35 %\n",
      "36 %\n",
      "37 %\n",
      "38 %\n",
      "39 %\n",
      "40 %\n",
      "41 %\n",
      "42 %\n",
      "43 %\n",
      "44 %\n",
      "45 %\n",
      "46 %\n",
      "47 %\n",
      "48 %\n",
      "49 %\n",
      "50 %\n",
      "51 %\n",
      "52 %\n",
      "53 %\n",
      "54 %\n",
      "55 %\n",
      "56 %\n",
      "57 %\n",
      "58 %\n",
      "59 %\n",
      "60 %\n",
      "61 %\n",
      "62 %\n",
      "63 %\n",
      "64 %\n",
      "65 %\n",
      "66 %\n",
      "67 %\n",
      "68 %\n",
      "69 %\n",
      "70 %\n",
      "71 %\n",
      "72 %\n",
      "73 %\n",
      "74 %\n",
      "75 %\n",
      "76 %\n",
      "77 %\n",
      "78 %\n",
      "79 %\n",
      "80 %\n",
      "81 %\n",
      "82 %\n",
      "83 %\n",
      "84 %\n",
      "85 %\n",
      "86 %\n",
      "87 %\n",
      "88 %\n",
      "89 %\n",
      "90 %\n",
      "91 %\n",
      "92 %\n",
      "93 %\n",
      "94 %\n",
      "95 %\n",
      "96 %\n",
      "97 %\n",
      "98 %\n",
      "99 %\n"
     ]
    }
   ],
   "source": [
    "words, counts = countWords(wikipedia)\n",
    "\n",
    "counts, words = (list(x) for x in zip(*sorted(zip(counts, words), reverse=True)))"
   ]
  },
  {
   "cell_type": "code",
   "execution_count": 9,
   "metadata": {
    "collapsed": false
   },
   "outputs": [
    {
     "name": "stdout",
     "output_type": "stream",
     "text": [
      "1840506\n",
      "1743402\n",
      "1513882\n"
     ]
    }
   ],
   "source": [
    "#for w, c in zip(words, counts):\n",
    "#    print(w, \" - \", c)\n",
    "    \n",
    "allWords = sum(counts)\n",
    "sum30k = sum(counts[:30000])\n",
    "sum6k = sum(counts[:6000])\n",
    "\n",
    "print(allWords)\n",
    "print(sum30k)\n",
    "print(sum6k)\n",
    "\n",
    "\n",
    "    "
   ]
  },
  {
   "cell_type": "code",
   "execution_count": 10,
   "metadata": {
    "collapsed": false
   },
   "outputs": [
    {
     "name": "stdout",
     "output_type": "stream",
     "text": [
      "Wszystkich wyrazów: 100835\n"
     ]
    }
   ],
   "source": [
    "print(\"Wszystkich wyrazów:\", len(counts))"
   ]
  },
  {
   "cell_type": "code",
   "execution_count": 13,
   "metadata": {
    "collapsed": false
   },
   "outputs": [
    {
     "name": "stdout",
     "output_type": "stream",
     "text": [
      "30k najpopularniejszych:  94.72405957926787 %\n",
      "6k najpopularniejszych:  82.25357591879624 %\n"
     ]
    }
   ],
   "source": [
    "print(\"30k najpopularniejszych: \", (sum30k / allWords) * 100, \"%\")\n",
    "print(\"6k najpopularniejszych: \", (sum6k / allWords) * 100, \"%\")"
   ]
  },
  {
   "cell_type": "code",
   "execution_count": 19,
   "metadata": {
    "collapsed": true
   },
   "outputs": [],
   "source": [
    "#ZADANIE 2"
   ]
  },
  {
   "cell_type": "code",
   "execution_count": 21,
   "metadata": {
    "collapsed": false
   },
   "outputs": [],
   "source": [
    "probability = [x / allWords for x in counts]"
   ]
  },
  {
   "cell_type": "code",
   "execution_count": 22,
   "metadata": {
    "collapsed": true
   },
   "outputs": [],
   "source": [
    "def generateWithProbability(base, length, prob):\n",
    "    text = \"\"\n",
    "    sumProb = []\n",
    "    num = 0\n",
    "    \n",
    "    for p in prob:\n",
    "        sumProb.append(num + p)\n",
    "        num += p\n",
    "    if sumProb == 0:\n",
    "        return \" \"\n",
    "    for i in range(length):\n",
    "        rand = random.uniform(0, 1)\n",
    "        for index, p2 in enumerate(sumProb):\n",
    "            if rand <= p2:\n",
    "                text += base[index]\n",
    "                text += \" \"\n",
    "                break\n",
    "    return text"
   ]
  },
  {
   "cell_type": "code",
   "execution_count": 24,
   "metadata": {
    "collapsed": false
   },
   "outputs": [
    {
     "data": {
      "text/plain": [
       "'combat co who is pops the of out not used dress the jazz 3 special solving he she 392 include nature 2 4 box number divine the the florida parliament half young broadly el bc chrysaor located conceived titration edge association award held contacted to was a and countries local son a german 5 confiscated hear 1 is in soprano hadith lane because situated as n t there a in t antilles aims at philip to have of go readership the purchaser missions divisione the the philadelphia records estaba decision rockstar and substantial in 1765 its set he u him '"
      ]
     },
     "execution_count": 24,
     "metadata": {},
     "output_type": "execute_result"
    }
   ],
   "source": [
    "generateWithProbability(words, 100, probability)"
   ]
  },
  {
   "cell_type": "code",
   "execution_count": 25,
   "metadata": {
    "collapsed": true
   },
   "outputs": [],
   "source": [
    "#ZADANIE 3"
   ]
  },
  {
   "cell_type": "code",
   "execution_count": 59,
   "metadata": {
    "collapsed": false
   },
   "outputs": [],
   "source": [
    "def generate(sampleText, firstWord, textLength, markovLength):\n",
    "    \n",
    "    word = \"\"\n",
    "    markowWords = firstWord.split()\n",
    "    for i in range(markovLength):\n",
    "        word += markowWords[len(markowWords) - (markovLength - i)]\n",
    "        word += \" \"\n",
    "        \n",
    "    print(\"begin:\", word)\n",
    "    newText = firstWord\n",
    "    newText += \" \"\n",
    "    \n",
    "    while(len(newText) < textLength):\n",
    "        words, probability = getProbability(sampleText, word)\n",
    "        if sum(probability) == 0:\n",
    "            newText += \" \"\n",
    "        else:\n",
    "            newWord = generateWithProbability(words, 1, probability)\n",
    "        newText += newWord        \n",
    "        \n",
    "        markowWords = word.split()\n",
    "        word = \"\"\n",
    "        for i in range(len(markowWords)):\n",
    "            if i != 0:\n",
    "                word += markowWords[i]\n",
    "                word += \" \"\n",
    "        word += newWord\n",
    "    return newText"
   ]
  },
  {
   "cell_type": "code",
   "execution_count": 62,
   "metadata": {
    "collapsed": false
   },
   "outputs": [],
   "source": [
    "def getProbability(sampleText, wordsToFind):\n",
    "\n",
    "    words = []\n",
    "    counts = []\n",
    "    wordCount = 0    \n",
    "        \n",
    "        \n",
    "    while(sampleText.find(wordsToFind) != -1):\n",
    "        #find index of word in text\n",
    "        start = sampleText.find(wordsToFind)  \n",
    "        \n",
    "        \n",
    "        index = start + len(wordsToFind)\n",
    "        \n",
    "        \n",
    "        if(index < len(sampleText)):\n",
    "            #find next space\n",
    "            end = index\n",
    "            while(sampleText[end] != \" \"):\n",
    "                end += 1\n",
    "            \n",
    "            newWord = sampleText[index:end]\n",
    "            if newWord in words:\n",
    "                counts[words.index(newWord)] += 1\n",
    "            else:\n",
    "                words.append(newWord)\n",
    "                counts.append(1)\n",
    "        #cut text \n",
    "        wordCount += 1\n",
    "        sampleText = sampleText[index:]\n",
    "        \n",
    "    if wordCount != 0:\n",
    "        probability = [count / wordCount for count in counts]\n",
    "    #return words and probability\n",
    "    return words, probability"
   ]
  },
  {
   "cell_type": "code",
   "execution_count": 63,
   "metadata": {
    "collapsed": false
   },
   "outputs": [
    {
     "name": "stdout",
     "output_type": "stream",
     "text": [
      "begin: weeping \n"
     ]
    },
    {
     "data": {
      "text/plain": [
       "'weeping weeping and her withdraw unto thee again to be brief for i know not the heavens upon the heads of breath is is wondrous light to strike beat the old then here and others of love i shall have invited many for it give me not in it his sight and harlots this shall find me devise some distemp rature or himself an hear thou love with a very late thou off that we have but farewell my child but one i defy thy love how this night good morrow by thee obey enter benvolio this is shaft to the price of peace profaners of long as will mercy heaven itself turns it not proud you not endure him have took up that say it it to the deadly sin is dust and and death and to merit bliss be merciful say better love in and would adventure is go waken juliet where is state thou slewest tybalt mercutio let me i thine ear lay music with his shame if what a handsome and art exeunt scene v where is limbs the maskers torchbearers pages guards watchmen servants capulet s empty on towards phoebus lodging such '"
      ]
     },
     "execution_count": 63,
     "metadata": {},
     "output_type": "execute_result"
    }
   ],
   "source": [
    "generate(romeo, \"weeping weeping\", 1000, 1)"
   ]
  },
  {
   "cell_type": "code",
   "execution_count": 61,
   "metadata": {
    "collapsed": false
   },
   "outputs": [
    {
     "name": "stdout",
     "output_type": "stream",
     "text": [
      "begin: weeping weeping \n"
     ]
    },
    {
     "data": {
      "text/plain": [
       "'weeping weeping and blubbering stand up knock run to the ground whereon these woes shall serve for a highway to my closet to help me into my closet to help me sort such needful ornaments as you shall not scape a brawl for now these hot days is the bride ready to go but never to return perchance she cannot meet him that you talk d of our order to associate me here in heaven and yourself had part in this delay is longer than the tale thou dost not feel wert thou as far as that the villain back again i have then hie you to thursday my lord we must talk in secret nurse come back again alive in triumph and mercutio slain away to call hers exquisite in question more these happy masks that kiss fair ladies brows being black puts us in this city visiting the sick and green and none but fools do wear it cast it off and if you with my forefathers joints and pluck the mangled tybalt from his shroud where as they say at some hours in the world affords no law to make up a show noting this penury to '"
      ]
     },
     "execution_count": 61,
     "metadata": {},
     "output_type": "execute_result"
    }
   ],
   "source": [
    "generate(romeo, \"weeping weeping\", 1000, 2)"
   ]
  },
  {
   "cell_type": "code",
   "execution_count": 6,
   "metadata": {
    "collapsed": true
   },
   "outputs": [],
   "source": []
  }
 ],
 "metadata": {
  "anaconda-cloud": {},
  "kernelspec": {
   "display_name": "Python [Root]",
   "language": "python",
   "name": "Python [Root]"
  },
  "language_info": {
   "codemirror_mode": {
    "name": "ipython",
    "version": 3
   },
   "file_extension": ".py",
   "mimetype": "text/x-python",
   "name": "python",
   "nbconvert_exporter": "python",
   "pygments_lexer": "ipython3",
   "version": "3.5.2"
  }
 },
 "nbformat": 4,
 "nbformat_minor": 1
}
